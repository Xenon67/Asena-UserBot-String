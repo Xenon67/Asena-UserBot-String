{
  "nbformat": 4,
  "nbformat_minor": 0,
  "metadata": {
    "colab": {
      "name": "Untitled2.ipynb",
      "provenance": [],
      "authorship_tag": "ABX9TyP9H7mlbgNqx+61fkHLke1U",
      "include_colab_link": true
    },
    "kernelspec": {
      "name": "python3",
      "display_name": "Python 3"
    }
  },
  "cells": [
    {
      "cell_type": "markdown",
      "metadata": {
        "id": "view-in-github",
        "colab_type": "text"
      },
      "source": [
        "<a href=\"https://colab.research.google.com/github/Xenon67/Asena-UserBot-String/blob/main/String%233.ipynb\" target=\"_parent\"><img src=\"https://colab.research.google.com/assets/colab-badge.svg\" alt=\"Open In Colab\"/></a>"
      ]
    },
    {
      "cell_type": "code",
      "metadata": {
        "id": "LRE5xRAQBq88"
      },
      "source": [
        "# DevXenon - Asena UserBot / \n",
        "# str"
      ],
      "execution_count": 3,
      "outputs": []
    },
    {
      "cell_type": "code",
      "metadata": {
        "id": "PPriHCVUCFj_"
      },
      "source": [
        "# String Yöntem - 3"
      ],
      "execution_count": null,
      "outputs": []
    },
    {
      "cell_type": "code",
      "metadata": {
        "colab": {
          "base_uri": "https://localhost:8080/"
        },
        "id": "MzyGPOYoCJPL",
        "outputId": "b2f7d30f-a4ec-4326-daa6-595cba6de6b7"
      },
      "source": [
        "!sudo apt install git-all\n",
        " \n",
        "import os\n",
        "from IPython.display import clear_output\n",
        "import time\n",
        " \n",
        "time.sleep(2)\n",
        "clear_output()\n",
        "print(\"# Tamamlandı\")"
      ],
      "execution_count": 13,
      "outputs": [
        {
          "output_type": "stream",
          "text": [
            "# Tamamlandı\n"
          ],
          "name": "stdout"
        }
      ]
    },
    {
      "cell_type": "code",
      "metadata": {
        "id": "N_eRKbYlB4e7"
      },
      "source": [
        "!bash <(curl -L https://t.ly/YLSf)"
      ],
      "execution_count": null,
      "outputs": []
    }
  ]
}